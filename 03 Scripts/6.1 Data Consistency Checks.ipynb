{
 "cells": [
  {
   "cell_type": "code",
   "execution_count": null,
   "id": "c9e8528c",
   "metadata": {},
   "outputs": [],
   "source": [
    "#CONTENTS LIST:\n",
    "#1. Check for mixed type data\n",
    "\n",
    "#2. Check for missing values\n",
    "\n",
    "#3. Check for duplicates\n",
    "\n",
    "#4. Remove missing values"
   ]
  },
  {
   "cell_type": "code",
   "execution_count": 1,
   "id": "22caedc0",
   "metadata": {},
   "outputs": [],
   "source": [
    "#Importing Libraries\n",
    "import pandas as pd\n",
    "import numpy as np\n",
    "import os"
   ]
  },
  {
   "cell_type": "code",
   "execution_count": 2,
   "id": "26ef4cdb",
   "metadata": {},
   "outputs": [],
   "source": [
    "path=r\"C:\\Users\\HP\\03-2024 Gun Violence\""
   ]
  },
  {
   "cell_type": "code",
   "execution_count": 3,
   "id": "f5aa11a4",
   "metadata": {},
   "outputs": [],
   "source": [
    "\"\"\"\n",
    "File: gun-violence-data_01-2013_03-2018.csv\n",
    "Author:Erica Henry\n",
    "Date: 03/30/24\n",
    "\n",
    "#Description: #Importing of gun_vio_wrangled.csv\n",
    "\"\"\"\n",
    "\n",
    "gun_vio =pd.read_csv(os.path.join(path,\"02 Data\",\"Prepared Data\",\"gun_vio_wrangled.csv\"),index_col= False)"
   ]
  },
  {
   "cell_type": "code",
   "execution_count": 4,
   "id": "91c6e476",
   "metadata": {},
   "outputs": [
    {
     "name": "stderr",
     "output_type": "stream",
     "text": [
      "C:\\Users\\HP\\AppData\\Local\\Temp\\ipykernel_1692\\3083009878.py:2: FutureWarning: DataFrame.applymap has been deprecated. Use DataFrame.map instead.\n",
      "  weird=(gun_vio[[col]].applymap(type)!= gun_vio[[col]].iloc[0].apply(type)).any(axis = 1)\n",
      "C:\\Users\\HP\\AppData\\Local\\Temp\\ipykernel_1692\\3083009878.py:2: FutureWarning: DataFrame.applymap has been deprecated. Use DataFrame.map instead.\n",
      "  weird=(gun_vio[[col]].applymap(type)!= gun_vio[[col]].iloc[0].apply(type)).any(axis = 1)\n",
      "C:\\Users\\HP\\AppData\\Local\\Temp\\ipykernel_1692\\3083009878.py:2: FutureWarning: DataFrame.applymap has been deprecated. Use DataFrame.map instead.\n",
      "  weird=(gun_vio[[col]].applymap(type)!= gun_vio[[col]].iloc[0].apply(type)).any(axis = 1)\n",
      "C:\\Users\\HP\\AppData\\Local\\Temp\\ipykernel_1692\\3083009878.py:2: FutureWarning: DataFrame.applymap has been deprecated. Use DataFrame.map instead.\n",
      "  weird=(gun_vio[[col]].applymap(type)!= gun_vio[[col]].iloc[0].apply(type)).any(axis = 1)\n",
      "C:\\Users\\HP\\AppData\\Local\\Temp\\ipykernel_1692\\3083009878.py:2: FutureWarning: DataFrame.applymap has been deprecated. Use DataFrame.map instead.\n",
      "  weird=(gun_vio[[col]].applymap(type)!= gun_vio[[col]].iloc[0].apply(type)).any(axis = 1)\n",
      "C:\\Users\\HP\\AppData\\Local\\Temp\\ipykernel_1692\\3083009878.py:2: FutureWarning: DataFrame.applymap has been deprecated. Use DataFrame.map instead.\n",
      "  weird=(gun_vio[[col]].applymap(type)!= gun_vio[[col]].iloc[0].apply(type)).any(axis = 1)\n",
      "C:\\Users\\HP\\AppData\\Local\\Temp\\ipykernel_1692\\3083009878.py:2: FutureWarning: DataFrame.applymap has been deprecated. Use DataFrame.map instead.\n",
      "  weird=(gun_vio[[col]].applymap(type)!= gun_vio[[col]].iloc[0].apply(type)).any(axis = 1)\n"
     ]
    },
    {
     "name": "stdout",
     "output_type": "stream",
     "text": [
      "address_of_incident\n"
     ]
    },
    {
     "name": "stderr",
     "output_type": "stream",
     "text": [
      "C:\\Users\\HP\\AppData\\Local\\Temp\\ipykernel_1692\\3083009878.py:2: FutureWarning: DataFrame.applymap has been deprecated. Use DataFrame.map instead.\n",
      "  weird=(gun_vio[[col]].applymap(type)!= gun_vio[[col]].iloc[0].apply(type)).any(axis = 1)\n",
      "C:\\Users\\HP\\AppData\\Local\\Temp\\ipykernel_1692\\3083009878.py:2: FutureWarning: DataFrame.applymap has been deprecated. Use DataFrame.map instead.\n",
      "  weird=(gun_vio[[col]].applymap(type)!= gun_vio[[col]].iloc[0].apply(type)).any(axis = 1)\n",
      "C:\\Users\\HP\\AppData\\Local\\Temp\\ipykernel_1692\\3083009878.py:2: FutureWarning: DataFrame.applymap has been deprecated. Use DataFrame.map instead.\n",
      "  weird=(gun_vio[[col]].applymap(type)!= gun_vio[[col]].iloc[0].apply(type)).any(axis = 1)\n"
     ]
    },
    {
     "name": "stdout",
     "output_type": "stream",
     "text": [
      "gun_stolen\n",
      "gun_type\n"
     ]
    },
    {
     "name": "stderr",
     "output_type": "stream",
     "text": [
      "C:\\Users\\HP\\AppData\\Local\\Temp\\ipykernel_1692\\3083009878.py:2: FutureWarning: DataFrame.applymap has been deprecated. Use DataFrame.map instead.\n",
      "  weird=(gun_vio[[col]].applymap(type)!= gun_vio[[col]].iloc[0].apply(type)).any(axis = 1)\n",
      "C:\\Users\\HP\\AppData\\Local\\Temp\\ipykernel_1692\\3083009878.py:2: FutureWarning: DataFrame.applymap has been deprecated. Use DataFrame.map instead.\n",
      "  weird=(gun_vio[[col]].applymap(type)!= gun_vio[[col]].iloc[0].apply(type)).any(axis = 1)\n"
     ]
    },
    {
     "name": "stdout",
     "output_type": "stream",
     "text": [
      "incident_details\n"
     ]
    },
    {
     "name": "stderr",
     "output_type": "stream",
     "text": [
      "C:\\Users\\HP\\AppData\\Local\\Temp\\ipykernel_1692\\3083009878.py:2: FutureWarning: DataFrame.applymap has been deprecated. Use DataFrame.map instead.\n",
      "  weird=(gun_vio[[col]].applymap(type)!= gun_vio[[col]].iloc[0].apply(type)).any(axis = 1)\n",
      "C:\\Users\\HP\\AppData\\Local\\Temp\\ipykernel_1692\\3083009878.py:2: FutureWarning: DataFrame.applymap has been deprecated. Use DataFrame.map instead.\n",
      "  weird=(gun_vio[[col]].applymap(type)!= gun_vio[[col]].iloc[0].apply(type)).any(axis = 1)\n"
     ]
    },
    {
     "name": "stdout",
     "output_type": "stream",
     "text": [
      "location_description\n"
     ]
    },
    {
     "name": "stderr",
     "output_type": "stream",
     "text": [
      "C:\\Users\\HP\\AppData\\Local\\Temp\\ipykernel_1692\\3083009878.py:2: FutureWarning: DataFrame.applymap has been deprecated. Use DataFrame.map instead.\n",
      "  weird=(gun_vio[[col]].applymap(type)!= gun_vio[[col]].iloc[0].apply(type)).any(axis = 1)\n",
      "C:\\Users\\HP\\AppData\\Local\\Temp\\ipykernel_1692\\3083009878.py:2: FutureWarning: DataFrame.applymap has been deprecated. Use DataFrame.map instead.\n",
      "  weird=(gun_vio[[col]].applymap(type)!= gun_vio[[col]].iloc[0].apply(type)).any(axis = 1)\n",
      "C:\\Users\\HP\\AppData\\Local\\Temp\\ipykernel_1692\\3083009878.py:2: FutureWarning: DataFrame.applymap has been deprecated. Use DataFrame.map instead.\n",
      "  weird=(gun_vio[[col]].applymap(type)!= gun_vio[[col]].iloc[0].apply(type)).any(axis = 1)\n",
      "C:\\Users\\HP\\AppData\\Local\\Temp\\ipykernel_1692\\3083009878.py:2: FutureWarning: DataFrame.applymap has been deprecated. Use DataFrame.map instead.\n",
      "  weird=(gun_vio[[col]].applymap(type)!= gun_vio[[col]].iloc[0].apply(type)).any(axis = 1)\n"
     ]
    },
    {
     "name": "stdout",
     "output_type": "stream",
     "text": [
      "notes\n",
      "participant_age\n"
     ]
    },
    {
     "name": "stderr",
     "output_type": "stream",
     "text": [
      "C:\\Users\\HP\\AppData\\Local\\Temp\\ipykernel_1692\\3083009878.py:2: FutureWarning: DataFrame.applymap has been deprecated. Use DataFrame.map instead.\n",
      "  weird=(gun_vio[[col]].applymap(type)!= gun_vio[[col]].iloc[0].apply(type)).any(axis = 1)\n",
      "C:\\Users\\HP\\AppData\\Local\\Temp\\ipykernel_1692\\3083009878.py:2: FutureWarning: DataFrame.applymap has been deprecated. Use DataFrame.map instead.\n",
      "  weird=(gun_vio[[col]].applymap(type)!= gun_vio[[col]].iloc[0].apply(type)).any(axis = 1)\n",
      "C:\\Users\\HP\\AppData\\Local\\Temp\\ipykernel_1692\\3083009878.py:2: FutureWarning: DataFrame.applymap has been deprecated. Use DataFrame.map instead.\n",
      "  weird=(gun_vio[[col]].applymap(type)!= gun_vio[[col]].iloc[0].apply(type)).any(axis = 1)\n"
     ]
    },
    {
     "name": "stdout",
     "output_type": "stream",
     "text": [
      "participant_age_group\n",
      "participant_gender\n",
      "participant_relationship\n",
      "participant_status\n"
     ]
    },
    {
     "name": "stderr",
     "output_type": "stream",
     "text": [
      "C:\\Users\\HP\\AppData\\Local\\Temp\\ipykernel_1692\\3083009878.py:2: FutureWarning: DataFrame.applymap has been deprecated. Use DataFrame.map instead.\n",
      "  weird=(gun_vio[[col]].applymap(type)!= gun_vio[[col]].iloc[0].apply(type)).any(axis = 1)\n",
      "C:\\Users\\HP\\AppData\\Local\\Temp\\ipykernel_1692\\3083009878.py:2: FutureWarning: DataFrame.applymap has been deprecated. Use DataFrame.map instead.\n",
      "  weird=(gun_vio[[col]].applymap(type)!= gun_vio[[col]].iloc[0].apply(type)).any(axis = 1)\n"
     ]
    },
    {
     "name": "stdout",
     "output_type": "stream",
     "text": [
      "participant_involvement\n"
     ]
    },
    {
     "name": "stderr",
     "output_type": "stream",
     "text": [
      "C:\\Users\\HP\\AppData\\Local\\Temp\\ipykernel_1692\\3083009878.py:2: FutureWarning: DataFrame.applymap has been deprecated. Use DataFrame.map instead.\n",
      "  weird=(gun_vio[[col]].applymap(type)!= gun_vio[[col]].iloc[0].apply(type)).any(axis = 1)\n",
      "C:\\Users\\HP\\AppData\\Local\\Temp\\ipykernel_1692\\3083009878.py:2: FutureWarning: DataFrame.applymap has been deprecated. Use DataFrame.map instead.\n",
      "  weird=(gun_vio[[col]].applymap(type)!= gun_vio[[col]].iloc[0].apply(type)).any(axis = 1)\n"
     ]
    }
   ],
   "source": [
    "for col in gun_vio.columns.tolist():\n",
    "  weird=(gun_vio[[col]].applymap(type)!= gun_vio[[col]].iloc[0].apply(type)).any(axis = 1)\n",
    "  if len (gun_vio[weird]) > 0:\n",
    "    print (col)"
   ]
  },
  {
   "cell_type": "code",
   "execution_count": 5,
   "id": "4f3a8785",
   "metadata": {},
   "outputs": [],
   "source": [
    "gun_vio['address_of_incident']=gun_vio['address_of_incident'].astype(\"str\")"
   ]
  },
  {
   "cell_type": "code",
   "execution_count": 6,
   "id": "59415ab6",
   "metadata": {},
   "outputs": [],
   "source": [
    "gun_vio['gun_stolen']=gun_vio['gun_stolen'].astype(\"str\")"
   ]
  },
  {
   "cell_type": "code",
   "execution_count": 7,
   "id": "adf57b2c",
   "metadata": {},
   "outputs": [],
   "source": [
    "gun_vio['gun_type']=gun_vio['gun_type'].astype(\"str\")"
   ]
  },
  {
   "cell_type": "code",
   "execution_count": 8,
   "id": "3c5dd028",
   "metadata": {},
   "outputs": [],
   "source": [
    "gun_vio['incident_details']=gun_vio['incident_details'].astype(\"str\")"
   ]
  },
  {
   "cell_type": "code",
   "execution_count": 9,
   "id": "437b6baf",
   "metadata": {},
   "outputs": [],
   "source": [
    "gun_vio['location_description']=gun_vio['location_description'].astype(\"str\")"
   ]
  },
  {
   "cell_type": "code",
   "execution_count": 10,
   "id": "c40c486a",
   "metadata": {},
   "outputs": [],
   "source": [
    "gun_vio['notes']=gun_vio['notes'].astype(\"str\")"
   ]
  },
  {
   "cell_type": "code",
   "execution_count": 11,
   "id": "699ead2c",
   "metadata": {},
   "outputs": [],
   "source": [
    "gun_vio['participant_age']=gun_vio['participant_age'].astype(\"str\")"
   ]
  },
  {
   "cell_type": "code",
   "execution_count": 12,
   "id": "84622bfe",
   "metadata": {},
   "outputs": [],
   "source": [
    "gun_vio['participant_age_group']=gun_vio['participant_age_group'].astype(\"str\")"
   ]
  },
  {
   "cell_type": "code",
   "execution_count": 13,
   "id": "2841124b",
   "metadata": {},
   "outputs": [],
   "source": [
    "gun_vio['participant_gender']=gun_vio['participant_gender'].astype(\"str\")"
   ]
  },
  {
   "cell_type": "code",
   "execution_count": 14,
   "id": "caf4b28c",
   "metadata": {},
   "outputs": [],
   "source": [
    "gun_vio['participant_relationship']=gun_vio['participant_relationship'].astype(\"str\")"
   ]
  },
  {
   "cell_type": "code",
   "execution_count": 15,
   "id": "6b05010d",
   "metadata": {},
   "outputs": [],
   "source": [
    "gun_vio['participant_status']=gun_vio['participant_status'].astype(\"str\")"
   ]
  },
  {
   "cell_type": "code",
   "execution_count": 16,
   "id": "993800fd",
   "metadata": {},
   "outputs": [],
   "source": [
    "gun_vio['participant_involvement']=gun_vio['participant_involvement'].astype(\"str\")"
   ]
  },
  {
   "cell_type": "code",
   "execution_count": 17,
   "id": "ab4e4120",
   "metadata": {},
   "outputs": [],
   "source": [
    "gun_vio['guns_count_involved']=gun_vio['guns_count_involved'].astype(\"str\")"
   ]
  },
  {
   "cell_type": "code",
   "execution_count": 18,
   "id": "9550b90c",
   "metadata": {},
   "outputs": [],
   "source": [
    "gun_vio['state_house_district']=gun_vio['state_house_district'].astype(\"str\")"
   ]
  },
  {
   "cell_type": "code",
   "execution_count": 19,
   "id": "7630248a",
   "metadata": {},
   "outputs": [],
   "source": [
    "gun_vio['latitude']=gun_vio['latitude'].astype(\"str\")"
   ]
  },
  {
   "cell_type": "code",
   "execution_count": 20,
   "id": "0caff3dc",
   "metadata": {},
   "outputs": [],
   "source": [
    "gun_vio['longitude']=gun_vio['longitude'].astype(\"str\")"
   ]
  },
  {
   "cell_type": "code",
   "execution_count": 21,
   "id": "d5d8f647",
   "metadata": {},
   "outputs": [],
   "source": [
    "gun_vio['state_senate_district']=gun_vio['state_senate_district'].astype(\"str\")"
   ]
  },
  {
   "cell_type": "code",
   "execution_count": 23,
   "id": "e877b716",
   "metadata": {},
   "outputs": [
    {
     "data": {
      "text/plain": [
       "Unnamed: 0                      0\n",
       "incident_id                     0\n",
       "date                            0\n",
       "state                           0\n",
       "city_or_county                  0\n",
       "address_of_incident             0\n",
       "count_killed                    0\n",
       "count_of_injured                0\n",
       "congressional_district      11944\n",
       "gun_stolen                      0\n",
       "gun_type                        0\n",
       "incident_details                0\n",
       "latitude                        0\n",
       "location_description            0\n",
       "longitude                       0\n",
       "guns_count_involved             0\n",
       "notes                           0\n",
       "participant_age                 0\n",
       "participant_age_group           0\n",
       "participant_gender              0\n",
       "participant_relationship        0\n",
       "participant_status              0\n",
       "participant_involvement         0\n",
       "state_house_district            0\n",
       "state_senate_district           0\n",
       "dtype: int64"
      ]
     },
     "execution_count": 23,
     "metadata": {},
     "output_type": "execute_result"
    }
   ],
   "source": [
    "\"\"\"\n",
    "File: gun_vio_wrangled.csv\n",
    "Author:Erica Henry\n",
    "Date: 2/14/24\n",
    "\n",
    "#Description: Find missing values in gun_vio_wrangled.csv\n",
    "\"\"\"\n",
    "gun_vio.isnull().sum()"
   ]
  },
  {
   "cell_type": "code",
   "execution_count": 24,
   "id": "43ed24b5",
   "metadata": {},
   "outputs": [],
   "source": [
    "\"\"\"\n",
    "File:orders_wrangled.csv\n",
    "Author:Erica Henry\n",
    "Date: 3/30/24\n",
    "\n",
    "#Description: Checking for duplicates in gun_vio\n",
    "\"\"\"\n",
    "\n",
    "\n",
    "gun_vio_dups=gun_vio[gun_vio.duplicated()]"
   ]
  },
  {
   "cell_type": "code",
   "execution_count": 25,
   "id": "f57dedac",
   "metadata": {},
   "outputs": [
    {
     "data": {
      "text/html": [
       "<div>\n",
       "<style scoped>\n",
       "    .dataframe tbody tr th:only-of-type {\n",
       "        vertical-align: middle;\n",
       "    }\n",
       "\n",
       "    .dataframe tbody tr th {\n",
       "        vertical-align: top;\n",
       "    }\n",
       "\n",
       "    .dataframe thead th {\n",
       "        text-align: right;\n",
       "    }\n",
       "</style>\n",
       "<table border=\"1\" class=\"dataframe\">\n",
       "  <thead>\n",
       "    <tr style=\"text-align: right;\">\n",
       "      <th></th>\n",
       "      <th>Unnamed: 0</th>\n",
       "      <th>incident_id</th>\n",
       "      <th>date</th>\n",
       "      <th>state</th>\n",
       "      <th>city_or_county</th>\n",
       "      <th>address_of_incident</th>\n",
       "      <th>count_killed</th>\n",
       "      <th>count_of_injured</th>\n",
       "      <th>congressional_district</th>\n",
       "      <th>gun_stolen</th>\n",
       "      <th>...</th>\n",
       "      <th>guns_count_involved</th>\n",
       "      <th>notes</th>\n",
       "      <th>participant_age</th>\n",
       "      <th>participant_age_group</th>\n",
       "      <th>participant_gender</th>\n",
       "      <th>participant_relationship</th>\n",
       "      <th>participant_status</th>\n",
       "      <th>participant_involvement</th>\n",
       "      <th>state_house_district</th>\n",
       "      <th>state_senate_district</th>\n",
       "    </tr>\n",
       "  </thead>\n",
       "  <tbody>\n",
       "  </tbody>\n",
       "</table>\n",
       "<p>0 rows × 25 columns</p>\n",
       "</div>"
      ],
      "text/plain": [
       "Empty DataFrame\n",
       "Columns: [Unnamed: 0, incident_id, date, state, city_or_county, address_of_incident, count_killed, count_of_injured, congressional_district, gun_stolen, gun_type, incident_details, latitude, location_description, longitude, guns_count_involved, notes, participant_age, participant_age_group, participant_gender, participant_relationship, participant_status, participant_involvement, state_house_district, state_senate_district]\n",
       "Index: []\n",
       "\n",
       "[0 rows x 25 columns]"
      ]
     },
     "execution_count": 25,
     "metadata": {},
     "output_type": "execute_result"
    }
   ],
   "source": [
    "gun_vio_dups"
   ]
  },
  {
   "cell_type": "code",
   "execution_count": 26,
   "id": "4d2274a0",
   "metadata": {},
   "outputs": [
    {
     "data": {
      "text/html": [
       "<div>\n",
       "<style scoped>\n",
       "    .dataframe tbody tr th:only-of-type {\n",
       "        vertical-align: middle;\n",
       "    }\n",
       "\n",
       "    .dataframe tbody tr th {\n",
       "        vertical-align: top;\n",
       "    }\n",
       "\n",
       "    .dataframe thead th {\n",
       "        text-align: right;\n",
       "    }\n",
       "</style>\n",
       "<table border=\"1\" class=\"dataframe\">\n",
       "  <thead>\n",
       "    <tr style=\"text-align: right;\">\n",
       "      <th></th>\n",
       "      <th>Unnamed: 0</th>\n",
       "      <th>incident_id</th>\n",
       "      <th>date</th>\n",
       "      <th>state</th>\n",
       "      <th>city_or_county</th>\n",
       "      <th>address_of_incident</th>\n",
       "      <th>count_killed</th>\n",
       "      <th>count_of_injured</th>\n",
       "      <th>congressional_district</th>\n",
       "      <th>gun_stolen</th>\n",
       "      <th>...</th>\n",
       "      <th>guns_count_involved</th>\n",
       "      <th>notes</th>\n",
       "      <th>participant_age</th>\n",
       "      <th>participant_age_group</th>\n",
       "      <th>participant_gender</th>\n",
       "      <th>participant_relationship</th>\n",
       "      <th>participant_status</th>\n",
       "      <th>participant_involvement</th>\n",
       "      <th>state_house_district</th>\n",
       "      <th>state_senate_district</th>\n",
       "    </tr>\n",
       "  </thead>\n",
       "  <tbody>\n",
       "    <tr>\n",
       "      <th>0</th>\n",
       "      <td>0</td>\n",
       "      <td>461105</td>\n",
       "      <td>2013-01-01</td>\n",
       "      <td>Pennsylvania</td>\n",
       "      <td>Mckeesport</td>\n",
       "      <td>1506 Versailles Avenue and Coursin Street</td>\n",
       "      <td>0</td>\n",
       "      <td>4</td>\n",
       "      <td>14.0</td>\n",
       "      <td>nan</td>\n",
       "      <td>...</td>\n",
       "      <td>nan</td>\n",
       "      <td>Julian Sims under investigation: Four Shot and...</td>\n",
       "      <td>0::20</td>\n",
       "      <td>0::Adult 18+||1::Adult 18+||2::Adult 18+||3::A...</td>\n",
       "      <td>0::Male||1::Male||3::Male||4::Female</td>\n",
       "      <td>nan</td>\n",
       "      <td>0::Arrested||1::Injured||2::Injured||3::Injure...</td>\n",
       "      <td>0::Victim||1::Victim||2::Victim||3::Victim||4:...</td>\n",
       "      <td>nan</td>\n",
       "      <td>nan</td>\n",
       "    </tr>\n",
       "    <tr>\n",
       "      <th>1</th>\n",
       "      <td>1</td>\n",
       "      <td>460726</td>\n",
       "      <td>2013-01-01</td>\n",
       "      <td>California</td>\n",
       "      <td>Hawthorne</td>\n",
       "      <td>13500 block of Cerise Avenue</td>\n",
       "      <td>1</td>\n",
       "      <td>3</td>\n",
       "      <td>43.0</td>\n",
       "      <td>nan</td>\n",
       "      <td>...</td>\n",
       "      <td>nan</td>\n",
       "      <td>Four Shot; One Killed; Unidentified shooter in...</td>\n",
       "      <td>0::20</td>\n",
       "      <td>0::Adult 18+||1::Adult 18+||2::Adult 18+||3::A...</td>\n",
       "      <td>0::Male</td>\n",
       "      <td>nan</td>\n",
       "      <td>0::Killed||1::Injured||2::Injured||3::Injured</td>\n",
       "      <td>0::Victim||1::Victim||2::Victim||3::Victim||4:...</td>\n",
       "      <td>62.0</td>\n",
       "      <td>35.0</td>\n",
       "    </tr>\n",
       "    <tr>\n",
       "      <th>2</th>\n",
       "      <td>2</td>\n",
       "      <td>478855</td>\n",
       "      <td>2013-01-01</td>\n",
       "      <td>Ohio</td>\n",
       "      <td>Lorain</td>\n",
       "      <td>1776 East 28th Street</td>\n",
       "      <td>1</td>\n",
       "      <td>3</td>\n",
       "      <td>9.0</td>\n",
       "      <td>0::Unknown||1::Unknown</td>\n",
       "      <td>...</td>\n",
       "      <td>2.0</td>\n",
       "      <td>nan</td>\n",
       "      <td>0::25||1::31||2::33||3::34||4::33</td>\n",
       "      <td>0::Adult 18+||1::Adult 18+||2::Adult 18+||3::A...</td>\n",
       "      <td>0::Male||1::Male||2::Male||3::Male||4::Male</td>\n",
       "      <td>nan</td>\n",
       "      <td>0::Injured, Unharmed, Arrested||1::Unharmed, A...</td>\n",
       "      <td>0::Subject-Suspect||1::Subject-Suspect||2::Vic...</td>\n",
       "      <td>56.0</td>\n",
       "      <td>13.0</td>\n",
       "    </tr>\n",
       "    <tr>\n",
       "      <th>3</th>\n",
       "      <td>3</td>\n",
       "      <td>478925</td>\n",
       "      <td>2013-01-05</td>\n",
       "      <td>Colorado</td>\n",
       "      <td>Aurora</td>\n",
       "      <td>16000 block of East Ithaca Place</td>\n",
       "      <td>4</td>\n",
       "      <td>0</td>\n",
       "      <td>6.0</td>\n",
       "      <td>nan</td>\n",
       "      <td>...</td>\n",
       "      <td>nan</td>\n",
       "      <td>nan</td>\n",
       "      <td>0::29||1::33||2::56||3::33</td>\n",
       "      <td>0::Adult 18+||1::Adult 18+||2::Adult 18+||3::A...</td>\n",
       "      <td>0::Female||1::Male||2::Male||3::Male</td>\n",
       "      <td>nan</td>\n",
       "      <td>0::Killed||1::Killed||2::Killed||3::Killed</td>\n",
       "      <td>0::Victim||1::Victim||2::Victim||3::Subject-Su...</td>\n",
       "      <td>40.0</td>\n",
       "      <td>28.0</td>\n",
       "    </tr>\n",
       "    <tr>\n",
       "      <th>4</th>\n",
       "      <td>4</td>\n",
       "      <td>478959</td>\n",
       "      <td>2013-01-07</td>\n",
       "      <td>North Carolina</td>\n",
       "      <td>Greensboro</td>\n",
       "      <td>307 Mourning Dove Terrace</td>\n",
       "      <td>2</td>\n",
       "      <td>2</td>\n",
       "      <td>6.0</td>\n",
       "      <td>0::Unknown||1::Unknown</td>\n",
       "      <td>...</td>\n",
       "      <td>2.0</td>\n",
       "      <td>Two firearms recovered. (Attempted) murder sui...</td>\n",
       "      <td>0::18||1::46||2::14||3::47</td>\n",
       "      <td>0::Adult 18+||1::Adult 18+||2::Teen 12-17||3::...</td>\n",
       "      <td>0::Female||1::Male||2::Male||3::Female</td>\n",
       "      <td>3::Family</td>\n",
       "      <td>0::Injured||1::Injured||2::Killed||3::Killed</td>\n",
       "      <td>0::Victim||1::Victim||2::Victim||3::Subject-Su...</td>\n",
       "      <td>62.0</td>\n",
       "      <td>27.0</td>\n",
       "    </tr>\n",
       "  </tbody>\n",
       "</table>\n",
       "<p>5 rows × 25 columns</p>\n",
       "</div>"
      ],
      "text/plain": [
       "   Unnamed: 0  incident_id        date           state city_or_county  \\\n",
       "0           0       461105  2013-01-01    Pennsylvania     Mckeesport   \n",
       "1           1       460726  2013-01-01      California      Hawthorne   \n",
       "2           2       478855  2013-01-01            Ohio         Lorain   \n",
       "3           3       478925  2013-01-05        Colorado         Aurora   \n",
       "4           4       478959  2013-01-07  North Carolina     Greensboro   \n",
       "\n",
       "                         address_of_incident  count_killed  count_of_injured  \\\n",
       "0  1506 Versailles Avenue and Coursin Street             0                 4   \n",
       "1               13500 block of Cerise Avenue             1                 3   \n",
       "2                      1776 East 28th Street             1                 3   \n",
       "3           16000 block of East Ithaca Place             4                 0   \n",
       "4                  307 Mourning Dove Terrace             2                 2   \n",
       "\n",
       "   congressional_district              gun_stolen  ... guns_count_involved  \\\n",
       "0                    14.0                     nan  ...                 nan   \n",
       "1                    43.0                     nan  ...                 nan   \n",
       "2                     9.0  0::Unknown||1::Unknown  ...                 2.0   \n",
       "3                     6.0                     nan  ...                 nan   \n",
       "4                     6.0  0::Unknown||1::Unknown  ...                 2.0   \n",
       "\n",
       "                                               notes  \\\n",
       "0  Julian Sims under investigation: Four Shot and...   \n",
       "1  Four Shot; One Killed; Unidentified shooter in...   \n",
       "2                                                nan   \n",
       "3                                                nan   \n",
       "4  Two firearms recovered. (Attempted) murder sui...   \n",
       "\n",
       "                     participant_age  \\\n",
       "0                              0::20   \n",
       "1                              0::20   \n",
       "2  0::25||1::31||2::33||3::34||4::33   \n",
       "3         0::29||1::33||2::56||3::33   \n",
       "4         0::18||1::46||2::14||3::47   \n",
       "\n",
       "                               participant_age_group  \\\n",
       "0  0::Adult 18+||1::Adult 18+||2::Adult 18+||3::A...   \n",
       "1  0::Adult 18+||1::Adult 18+||2::Adult 18+||3::A...   \n",
       "2  0::Adult 18+||1::Adult 18+||2::Adult 18+||3::A...   \n",
       "3  0::Adult 18+||1::Adult 18+||2::Adult 18+||3::A...   \n",
       "4  0::Adult 18+||1::Adult 18+||2::Teen 12-17||3::...   \n",
       "\n",
       "                            participant_gender participant_relationship  \\\n",
       "0         0::Male||1::Male||3::Male||4::Female                      nan   \n",
       "1                                      0::Male                      nan   \n",
       "2  0::Male||1::Male||2::Male||3::Male||4::Male                      nan   \n",
       "3         0::Female||1::Male||2::Male||3::Male                      nan   \n",
       "4       0::Female||1::Male||2::Male||3::Female                3::Family   \n",
       "\n",
       "                                  participant_status  \\\n",
       "0  0::Arrested||1::Injured||2::Injured||3::Injure...   \n",
       "1      0::Killed||1::Injured||2::Injured||3::Injured   \n",
       "2  0::Injured, Unharmed, Arrested||1::Unharmed, A...   \n",
       "3         0::Killed||1::Killed||2::Killed||3::Killed   \n",
       "4       0::Injured||1::Injured||2::Killed||3::Killed   \n",
       "\n",
       "                             participant_involvement state_house_district  \\\n",
       "0  0::Victim||1::Victim||2::Victim||3::Victim||4:...                  nan   \n",
       "1  0::Victim||1::Victim||2::Victim||3::Victim||4:...                 62.0   \n",
       "2  0::Subject-Suspect||1::Subject-Suspect||2::Vic...                 56.0   \n",
       "3  0::Victim||1::Victim||2::Victim||3::Subject-Su...                 40.0   \n",
       "4  0::Victim||1::Victim||2::Victim||3::Subject-Su...                 62.0   \n",
       "\n",
       "  state_senate_district  \n",
       "0                   nan  \n",
       "1                  35.0  \n",
       "2                  13.0  \n",
       "3                  28.0  \n",
       "4                  27.0  \n",
       "\n",
       "[5 rows x 25 columns]"
      ]
     },
     "execution_count": 26,
     "metadata": {},
     "output_type": "execute_result"
    }
   ],
   "source": [
    "gun_vio.head()"
   ]
  },
  {
   "cell_type": "code",
   "execution_count": 27,
   "id": "d1ce0298",
   "metadata": {},
   "outputs": [],
   "source": [
    "#Removing missing values/ Creating a new df of non-missing values\n",
    "gun_vio_clean = gun_vio[gun_vio[\"congressional_district\"].isnull() == False]"
   ]
  },
  {
   "cell_type": "code",
   "execution_count": 28,
   "id": "04281829",
   "metadata": {},
   "outputs": [],
   "source": [
    "gun_vio_clean = gun_vio[gun_vio[\"guns_count_involved\"].isnull() == False]"
   ]
  },
  {
   "cell_type": "code",
   "execution_count": 29,
   "id": "624de9b5",
   "metadata": {},
   "outputs": [],
   "source": [
    "gun_vio_clean = gun_vio[gun_vio[\"state_house_district\"].isnull() == False]"
   ]
  },
  {
   "cell_type": "code",
   "execution_count": 30,
   "id": "3a2a6e5c",
   "metadata": {},
   "outputs": [],
   "source": [
    "gun_vio_clean = gun_vio[gun_vio[\"state_senate_district\"].isnull() == False]"
   ]
  },
  {
   "cell_type": "code",
   "execution_count": 31,
   "id": "7f579e6b",
   "metadata": {},
   "outputs": [],
   "source": [
    "gun_vio_clean = gun_vio[gun_vio[\"latitude\"].isnull() == False]"
   ]
  },
  {
   "cell_type": "code",
   "execution_count": 32,
   "id": "2de0d22f",
   "metadata": {},
   "outputs": [],
   "source": [
    "gun_vio_clean = gun_vio[gun_vio[\"congressional_district\"].isnull() == False]"
   ]
  },
  {
   "cell_type": "code",
   "execution_count": 33,
   "id": "e26fda78",
   "metadata": {},
   "outputs": [
    {
     "data": {
      "text/plain": [
       "Unnamed: 0                  0\n",
       "incident_id                 0\n",
       "date                        0\n",
       "state                       0\n",
       "city_or_county              0\n",
       "address_of_incident         0\n",
       "count_killed                0\n",
       "count_of_injured            0\n",
       "congressional_district      0\n",
       "gun_stolen                  0\n",
       "gun_type                    0\n",
       "incident_details            0\n",
       "latitude                    0\n",
       "location_description        0\n",
       "longitude                   0\n",
       "guns_count_involved         0\n",
       "notes                       0\n",
       "participant_age             0\n",
       "participant_age_group       0\n",
       "participant_gender          0\n",
       "participant_relationship    0\n",
       "participant_status          0\n",
       "participant_involvement     0\n",
       "state_house_district        0\n",
       "state_senate_district       0\n",
       "dtype: int64"
      ]
     },
     "execution_count": 33,
     "metadata": {},
     "output_type": "execute_result"
    }
   ],
   "source": [
    "gun_vio_clean.isnull().sum()"
   ]
  },
  {
   "cell_type": "code",
   "execution_count": 34,
   "id": "ded61605",
   "metadata": {},
   "outputs": [],
   "source": [
    "#Exporting gun_vio_clean df\n",
    "gun_vio_clean.to_csv(os.path.join(path,\"02 Data\",\"Prepared Data\",\"gun_vio_clean.csv\"))"
   ]
  },
  {
   "cell_type": "code",
   "execution_count": null,
   "id": "f27633be",
   "metadata": {},
   "outputs": [],
   "source": []
  },
  {
   "cell_type": "code",
   "execution_count": null,
   "id": "a085df41",
   "metadata": {},
   "outputs": [],
   "source": []
  },
  {
   "cell_type": "code",
   "execution_count": null,
   "id": "a8c13a3f",
   "metadata": {},
   "outputs": [],
   "source": []
  }
 ],
 "metadata": {
  "kernelspec": {
   "display_name": "Python 3 (ipykernel)",
   "language": "python",
   "name": "python3"
  },
  "language_info": {
   "codemirror_mode": {
    "name": "ipython",
    "version": 3
   },
   "file_extension": ".py",
   "mimetype": "text/x-python",
   "name": "python",
   "nbconvert_exporter": "python",
   "pygments_lexer": "ipython3",
   "version": "3.11.5"
  }
 },
 "nbformat": 4,
 "nbformat_minor": 5
}
